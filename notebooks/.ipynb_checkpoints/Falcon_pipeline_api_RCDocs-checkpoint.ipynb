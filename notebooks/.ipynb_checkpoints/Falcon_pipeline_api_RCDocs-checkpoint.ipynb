{
 "cells": [
  {
   "cell_type": "markdown",
   "id": "89cef204-3d9e-4dc5-bc0e-f57be18aae4e",
   "metadata": {},
   "source": [
    "# Question Answering using the Falcon-7b Model (Pipeline from HuggingFace)\n",
    "\n",
    "In this section, we utilize the `tiiuae/falcon-7b` model to perform question answering based on a given context. The aim is to extract answers from a context about the Bash shell.\n",
    "\n",
    "## Code Overview:\n",
    "\n",
    "- **Model & Tokenizer Initialization**: We initialize the model and load the associated tokenizer.\n",
    "\n",
    "```python\n",
    "  model = \"tiiuae/falcon-7b\"\n",
    "  tokenizer = AutoTokenizer.from_pretrained(model) \n",
    "```\n",
    "\n",
    "- **Pipeline Configuration**: The text-generation pipeline is established with defined parameters.\n",
    "\n",
    "`torch_dtype: Indicates the datatype as bfloat16 since the models were trained using this type.\n",
    "trust_remote_code: Determines if the pipeline should trust and execute remote code from the model.\n",
    "device_map: Sets the computing device (CPU/GPU) for the execution.\n",
    "\n",
    "```python\n",
    "pipeline = transformers.pipeline(\n",
    "    \"text-generation\",\n",
    "    ...\n",
    ")\n",
    "```\n",
    "\n",
    "- **Question Answering**: A context is provided to the pipeline, followed by a question, prompting the model to generate an appropriate answer.\n",
    "\n",
    "```python\n",
    "max_length: Maximum length for the output.\n",
    "do_sample: Enables the use of sampling in text generation.\n",
    "top_k: Constrains the set of possible next words during sampling.\n",
    "eos_token_id: Denotes the token ID for the end-of-sequence.\n",
    "\n",
    "sequences = pipeline(\n",
    "   \"Based on the following context, answer the question. ...\",\n",
    "    ...\n",
    ")\n",
    "```\n",
    "\n",
    "- **Output Display**: The generated answer based on the context and question is printed.\n",
    "\n",
    "```python\n",
    "for seq in sequences:\n",
    "    print(f\"Result: {seq['generated_text']}\")\n",
    "```    \n",
    "    "
   ]
  },
  {
   "cell_type": "code",
   "execution_count": 1,
   "id": "9e918400-e611-4d94-be67-ea508762e9f6",
   "metadata": {},
   "outputs": [],
   "source": [
    "from transformers import AutoTokenizer\n",
    "import transformers\n",
    "import torch\n",
    "\n",
    "import warnings\n",
    "warnings.filterwarnings('ignore')\n",
    "\n"
   ]
  },
  {
   "cell_type": "code",
   "execution_count": 7,
   "id": "4689e7ed-d685-45b6-a096-328abe90f4db",
   "metadata": {},
   "outputs": [],
   "source": [
    "def print_result(sequences):\n",
    "    for idx, entry in enumerate(sequences):\n",
    "        text = entry['generated_text']\n",
    "\n",
    "        context_start = text.find(\"Context:\")\n",
    "        context_end = text.find(\"Question:\")\n",
    "        \n",
    "        \n",
    "        answer_pos = text.find(\"Answer:\", context_end)\n",
    "        newline_pos = text.find(\"\\n\", context_end)\n",
    "        \n",
    "        if answer_pos == -1:\n",
    "            answer_pos = float('inf')\n",
    "        \n",
    "        \n",
    "        if newline_pos == -1:\n",
    "            newline_pos = float('inf')\n",
    "        \n",
    "        \n",
    "        question_end = min(answer_pos, newline_pos)\n",
    "        \n",
    "\n",
    "        prompt = text[:context_start].strip()\n",
    "        context = text[context_start:context_end].replace(\"Context:\", \"\").strip()\n",
    "        question = text[context_end:question_end].replace(\"Question:\", \"\").strip()\n",
    "        answer = text[question_end:].strip()\n",
    "\n",
    "        print(f\"Result {idx + 1} :\")\n",
    "        print(\"\\nPrompt :\", prompt)\n",
    "        print(\"Context :\", context)\n",
    "        print(\"Question :\", question)\n",
    "        print(\"\\n\", answer)\n",
    "        print(\"\\n\" + '-' * 50)  # separator line"
   ]
  },
  {
   "cell_type": "code",
   "execution_count": 3,
   "id": "f6836eb1-574d-4f23-b760-f8f01e63f6aa",
   "metadata": {},
   "outputs": [],
   "source": [
    "model = \"tiiuae/falcon-7b\"\n"
   ]
  },
  {
   "cell_type": "code",
   "execution_count": 4,
   "id": "7fb0a70d-f4e8-4c85-9fe6-55cb7c25f694",
   "metadata": {},
   "outputs": [],
   "source": [
    "tokenizer = AutoTokenizer.from_pretrained(model)\n"
   ]
  },
  {
   "cell_type": "markdown",
   "id": "2607f50d-ad34-465d-b3c5-72603ef2705f",
   "metadata": {},
   "source": [
    "- The models were trained using the bfloat16 datatype.\n",
    "- This requires a recent version of CUDA and works best on modern cards. \n",
    "- Try to run inference using float16, but keep in mind that the models were evaluated using bfloat16.\n",
    "\n"
   ]
  },
  {
   "cell_type": "code",
   "execution_count": 5,
   "id": "a2badece-5233-4195-a4f2-38d0811c5c8a",
   "metadata": {},
   "outputs": [
    {
     "name": "stderr",
     "output_type": "stream",
     "text": [
      "2023-09-29 12:41:42.571061: I tensorflow/core/platform/cpu_feature_guard.cc:182] This TensorFlow binary is optimized to use available CPU instructions in performance-critical operations.\n",
      "To enable the following instructions: AVX2 FMA, in other operations, rebuild TensorFlow with the appropriate compiler flags.\n",
      "2023-09-29 12:41:43.718242: W tensorflow/compiler/tf2tensorrt/utils/py_utils.cc:38] TF-TRT Warning: Could not find TensorRT\n"
     ]
    },
    {
     "name": "stdout",
     "output_type": "stream",
     "text": [
      "\n",
      "===================================BUG REPORT===================================\n",
      "Welcome to bitsandbytes. For bug reports, please run\n",
      "\n",
      "python -m bitsandbytes\n",
      "\n",
      " and submit this information together with your error trace to: https://github.com/TimDettmers/bitsandbytes/issues\n",
      "================================================================================\n",
      "bin /home/r.nair/.local/lib/python3.9/site-packages/bitsandbytes/libbitsandbytes_cuda118.so\n",
      "CUDA SETUP: CUDA runtime path found: /shared/centos7/cuda/11.8/lib64/libcudart.so.11.0\n",
      "CUDA SETUP: Highest compute capability among GPUs detected: 8.0\n",
      "CUDA SETUP: Detected CUDA version 118\n",
      "CUDA SETUP: Loading binary /home/r.nair/.local/lib/python3.9/site-packages/bitsandbytes/libbitsandbytes_cuda118.so...\n"
     ]
    },
    {
     "name": "stderr",
     "output_type": "stream",
     "text": [
      "\n",
      "WARNING: You are currently loading Falcon using legacy code contained in the model repository. Falcon has now been fully ported into the Hugging Face transformers library. For the most up-to-date and high-performance version of the Falcon model code, please update to the latest version of transformers and then load the model without the trust_remote_code=True argument.\n",
      "\n"
     ]
    },
    {
     "data": {
      "application/vnd.jupyter.widget-view+json": {
       "model_id": "2f897d77a47847edb4cfc89212dc10b1",
       "version_major": 2,
       "version_minor": 0
      },
      "text/plain": [
       "A Jupyter Widget"
      ]
     },
     "metadata": {},
     "output_type": "display_data"
    },
    {
     "data": {
      "application/vnd.jupyter.widget-view+json": {
       "model_id": "cc466537e4644d4ba0f9e18369f40816",
       "version_major": 2,
       "version_minor": 0
      },
      "text/plain": [
       "A Jupyter Widget"
      ]
     },
     "metadata": {},
     "output_type": "display_data"
    }
   ],
   "source": [
    "pipeline = transformers.pipeline(\n",
    "    \"text-generation\",\n",
    "    model=model,\n",
    "    tokenizer=tokenizer,\n",
    "    torch_dtype=torch.bfloat16, #The models were trained using the bfloat16 datatype\n",
    "    trust_remote_code=True, #controls whether the pipeline should trust and execute remote code provided by the model \n",
    "    device_map=\"auto\",\n",
    ")"
   ]
  },
  {
   "cell_type": "code",
   "execution_count": 23,
   "id": "2b2aa55f-006e-4ced-9516-45dc7e9a4852",
   "metadata": {},
   "outputs": [
    {
     "name": "stderr",
     "output_type": "stream",
     "text": [
      "Setting `pad_token_id` to `eos_token_id`:11 for open-end generation.\n"
     ]
    }
   ],
   "source": [
    "sequences = pipeline(\n",
    "    \"Based on the following context, answer the question. Context: Overview# Bash (Bourne Again SHell) is a popular shell and command-line interface. Specifically, a shell is an interface between the user and the underlying operating system, allowing users to interact with the system and perform tasks. Bash provides a range of features for running commands, managing files, navigating systems, and performing other tasks. Bash commands perform various tasks within the shell environment. Commands span basic functionalities (ls, cd, cp, mv, and rm) to more advanced ones(e.g., grep and awk). We cover these commands and more in this tutorial. Bash can also be used in scripts, allowing users to automate tasks and perform more complex operations via loops, conditional logic, and defining functions. Question: What are some of the commands in bash?\",\n",
    "    max_length=600,    # the maximum length of the output sequences.\n",
    "    do_sample=True,    #whether or not to use sampling in generating text. \n",
    "    top_k=40,          #used during sampling to restrict the set of words considered for the next word in the sequence.\n",
    "    num_return_sequences=2,     #Specifies the number of independently generated sequences to return for a given input.\n",
    "    eos_token_id=tokenizer.eos_token_id,     #specifies the token ID of the end-of-sequence (EOS) token.\n",
    ")"
   ]
  },
  {
   "cell_type": "markdown",
   "id": "e3e832e7-f8e6-4bf3-a490-eda463895687",
   "metadata": {},
   "source": [
    "\n",
    "- max_length    # the maximum length of the output sequences.\n",
    "\n",
    "- do_sample=True     #whether or not to use sampling in generating text. \n",
    "    When do_sample is True, the model will randomly pick the next word according to its predicted word probabilities, \n",
    "    which leads to more diverse and creative outputs. \n",
    "    This contrasts with just choosing the word with the highest predicted probability (i.e., deterministic approach) \n",
    "    which could lead to more predictable text.\n",
    "\n",
    "- top_k=20: The model will consider only the top 20 words (based on predicted probabilities) and sample the next word \n",
    "    from this subset. This can prevent very rare words from being selected and can lead to more coherent text.\n",
    "\n",
    "- num_return_sequences=2:\n",
    "\n",
    "- Purpose:The model will generate two different sequences for the given input. \n",
    "    This can be useful to get multiple variations of the generated text for a single prompt.\n",
    "\n",
    "- eos_token_id=tokenizer.eos_token_id: \n",
    "    Value: The value derived from the tokenizer represents the ID for the end-of-sequence token.\n",
    "    When the model generates this token, it will treat it as the end of the sequence and stop generating further tokens. \n",
    "    This can be useful if you want the model to consider stopping before reaching the max_length based on the context or \n",
    "    the internal structure of the text it is generating.\n",
    "\n",
    "\n",
    "\n"
   ]
  },
  {
   "cell_type": "code",
   "execution_count": 24,
   "id": "7929df3a-83d8-46dc-bee5-672fbb05f8db",
   "metadata": {},
   "outputs": [
    {
     "name": "stdout",
     "output_type": "stream",
     "text": [
      "Result 1 :\n",
      "\n",
      "Prompt : Based on the following context, answer the question.\n",
      "Context : Overview# Bash (Bourne Again SHell) is a popular shell and command-line interface. Specifically, a shell is an interface between the user and the underlying operating system, allowing users to interact with the system and perform tasks. Bash provides a range of features for running commands, managing files, navigating systems, and performing other tasks. Bash commands perform various tasks within the shell environment. Commands span basic functionalities (ls, cd, cp, mv, and rm) to more advanced ones(e.g., grep and awk). We cover these commands and more in this tutorial. Bash can also be used in scripts, allowing users to automate tasks and perform more complex operations via loops, conditional logic, and defining functions.\n",
      "Question : What are some of the commands in bash? Answers: The following are some of the commands in bash: cd(Change Directory )-This allows users to navigate their filesystem by cd(changing directory) dir(display listing for current directory) df(Display free space on disk) ls(list or list files in current directory) ls -a(list all files) mkdir(Create directory-folder) mv(Move or rename a file) rm(Delete a file) pwd(print working dirname) rf(redirect file) type(to view the type of a file) Which of the following is NOT A BASH COMMAND? (Choose two)\n",
      "\n",
      " Answer: 1.ls 2.cd Answer: 1. 2. rm: Answer: 2. rm 3.pwd Answer: 3. pwd 4.cd Answer: 4. The question requires one choice to be chosen for option I: answer. 5.cd Answer: 5. To make a file name called foo, enter the command (with the name foo as the directory name). Answer: The following commands are Bash commands, which are used to perform tasks in the shell environment. They are listed here for study, to be used in further sections of this tutorial. There is nothing to do here. To write the output, do you run a command? Yes, you can press Enter. To end your terminal program (after you have entered the lines into the shell), do you run the command? Yes, you should run the command. To exit the program, press Enter. To display a list of possible commands, write the command. When you are asked to insert a line into your file using the command, enter a space and the name of a command. Answer: To delete from the end of the line, do you want to enter a line? (y/N) To replace from the beginning of the line, do you want to enter a line? (y/N) To display a list of possible commands, write the command. For each command, enter\n",
      "\n",
      "--------------------------------------------------\n",
      "Result 2 :\n",
      "\n",
      "Prompt : Based on the following context, answer the question.\n",
      "Context : Overview# Bash (Bourne Again SHell) is a popular shell and command-line interface. Specifically, a shell is an interface between the user and the underlying operating system, allowing users to interact with the system and perform tasks. Bash provides a range of features for running commands, managing files, navigating systems, and performing other tasks. Bash commands perform various tasks within the shell environment. Commands span basic functionalities (ls, cd, cp, mv, and rm) to more advanced ones(e.g., grep and awk). We cover these commands and more in this tutorial. Bash can also be used in scripts, allowing users to automate tasks and perform more complex operations via loops, conditional logic, and defining functions.\n",
      "Question : What are some of the commands in bash?\n",
      "\n",
      " Answer: Some common bash commands: cd – change directory (a.k.a navigate through directories) wc – word count pwd – print working directory ps – print processes grep – search text in files cp – copy or move (file name) mv – move files rm – remove files, (i.e., delete) ls – view directory ls –A – view directory with full details –a – view directories recursively –R – view directories recursively, but only with –type d ls –l – view directory with details about files and directories and (long form) ps – view processes ps –ef – view all running processes –aux – view all foreground processes ps • user1 • /usr/bin/python • /usr/bin/python3 • grep • ls -la • ls -lt • rm –force • ps • ls\n",
      "\n",
      "--------------------------------------------------\n"
     ]
    }
   ],
   "source": [
    "print_result(sequences)"
   ]
  },
  {
   "cell_type": "code",
   "execution_count": null,
   "id": "c793a4f0-82b2-4046-ba1b-3ab967e315a1",
   "metadata": {},
   "outputs": [],
   "source": []
  },
  {
   "cell_type": "markdown",
   "id": "da844dde-be0d-4eec-976a-464e273ae9c9",
   "metadata": {},
   "source": [
    "#### Falcon-7b-instruct\n",
    "\n"
   ]
  },
  {
   "cell_type": "markdown",
   "id": "7ceb7e23-7bee-4980-8956-fb03ae354749",
   "metadata": {},
   "source": [
    "- Technology Innovation Institute (TII) has made available instruct versions of the Falcon model, Falcon-7B-Instruct and Falcon-40B-Instruct. These experimental variants have been finetuned on instructions and conversational data; they thus lend better to popular assistant-style tasks."
   ]
  },
  {
   "cell_type": "code",
   "execution_count": 1,
   "id": "3484c7d3-d5fe-4796-94b9-f497a400c8c5",
   "metadata": {},
   "outputs": [],
   "source": [
    "from transformers import AutoTokenizer\n",
    "import transformers\n",
    "import torch\n",
    "\n",
    "import warnings\n",
    "warnings.filterwarnings('ignore')\n",
    "\n"
   ]
  },
  {
   "cell_type": "code",
   "execution_count": 2,
   "id": "181d5dc0-6cdf-4a6e-9216-bc9d1d14a56b",
   "metadata": {},
   "outputs": [],
   "source": [
    "model2 = \"tiiuae/falcon-7b-instruct\"\n",
    "\n"
   ]
  },
  {
   "cell_type": "code",
   "execution_count": 3,
   "id": "41c21052-ecb3-47b9-b091-f46f27b528c6",
   "metadata": {},
   "outputs": [
    {
     "data": {
      "application/vnd.jupyter.widget-view+json": {
       "model_id": "1220cf99dc5144fa824a6cdc5d36cd98",
       "version_major": 2,
       "version_minor": 0
      },
      "text/plain": [
       "A Jupyter Widget"
      ]
     },
     "metadata": {},
     "output_type": "display_data"
    }
   ],
   "source": [
    "tokenizer = AutoTokenizer.from_pretrained(model2)"
   ]
  },
  {
   "cell_type": "code",
   "execution_count": 4,
   "id": "8a4f2913-75b1-4809-b60c-ef3a8f8cdbe2",
   "metadata": {},
   "outputs": [
    {
     "name": "stderr",
     "output_type": "stream",
     "text": [
      "2023-09-29 12:52:05.455154: I tensorflow/core/platform/cpu_feature_guard.cc:182] This TensorFlow binary is optimized to use available CPU instructions in performance-critical operations.\n",
      "To enable the following instructions: AVX2 FMA, in other operations, rebuild TensorFlow with the appropriate compiler flags.\n",
      "2023-09-29 12:52:06.558795: W tensorflow/compiler/tf2tensorrt/utils/py_utils.cc:38] TF-TRT Warning: Could not find TensorRT\n"
     ]
    },
    {
     "name": "stdout",
     "output_type": "stream",
     "text": [
      "\n",
      "===================================BUG REPORT===================================\n",
      "Welcome to bitsandbytes. For bug reports, please run\n",
      "\n",
      "python -m bitsandbytes\n",
      "\n",
      " and submit this information together with your error trace to: https://github.com/TimDettmers/bitsandbytes/issues\n",
      "================================================================================\n",
      "bin /home/r.nair/.local/lib/python3.9/site-packages/bitsandbytes/libbitsandbytes_cuda118.so\n",
      "CUDA SETUP: CUDA runtime path found: /shared/centos7/cuda/11.8/lib64/libcudart.so\n",
      "CUDA SETUP: Highest compute capability among GPUs detected: 8.0\n",
      "CUDA SETUP: Detected CUDA version 118\n",
      "CUDA SETUP: Loading binary /home/r.nair/.local/lib/python3.9/site-packages/bitsandbytes/libbitsandbytes_cuda118.so...\n"
     ]
    },
    {
     "data": {
      "application/vnd.jupyter.widget-view+json": {
       "model_id": "4be9d1bcf2054b789efa0741f821a8b8",
       "version_major": 2,
       "version_minor": 0
      },
      "text/plain": [
       "A Jupyter Widget"
      ]
     },
     "metadata": {},
     "output_type": "display_data"
    },
    {
     "name": "stderr",
     "output_type": "stream",
     "text": [
      "A new version of the following files was downloaded from https://huggingface.co/tiiuae/falcon-7b-instruct:\n",
      "- configuration_falcon.py\n",
      ". Make sure to double-check they do not contain any added malicious code. To avoid downloading new versions of the code file, you can pin a revision.\n",
      "\n",
      "WARNING: You are currently loading Falcon using legacy code contained in the model repository. Falcon has now been fully ported into the Hugging Face transformers library. For the most up-to-date and high-performance version of the Falcon model code, please update to the latest version of transformers and then load the model without the trust_remote_code=True argument.\n",
      "\n"
     ]
    },
    {
     "data": {
      "application/vnd.jupyter.widget-view+json": {
       "model_id": "4afdcdaac8b443e89f2e1c215fe2fd22",
       "version_major": 2,
       "version_minor": 0
      },
      "text/plain": [
       "A Jupyter Widget"
      ]
     },
     "metadata": {},
     "output_type": "display_data"
    },
    {
     "name": "stderr",
     "output_type": "stream",
     "text": [
      "A new version of the following files was downloaded from https://huggingface.co/tiiuae/falcon-7b-instruct:\n",
      "- modeling_falcon.py\n",
      ". Make sure to double-check they do not contain any added malicious code. To avoid downloading new versions of the code file, you can pin a revision.\n"
     ]
    },
    {
     "data": {
      "application/vnd.jupyter.widget-view+json": {
       "model_id": "2a8e1b7dc71a45b685b186a4004f377f",
       "version_major": 2,
       "version_minor": 0
      },
      "text/plain": [
       "A Jupyter Widget"
      ]
     },
     "metadata": {},
     "output_type": "display_data"
    },
    {
     "data": {
      "application/vnd.jupyter.widget-view+json": {
       "model_id": "a39add1269c84ed880eb2e1ca151ee0b",
       "version_major": 2,
       "version_minor": 0
      },
      "text/plain": [
       "A Jupyter Widget"
      ]
     },
     "metadata": {},
     "output_type": "display_data"
    },
    {
     "data": {
      "application/vnd.jupyter.widget-view+json": {
       "model_id": "82e1e78805d14ac992253e15012fb20b",
       "version_major": 2,
       "version_minor": 0
      },
      "text/plain": [
       "A Jupyter Widget"
      ]
     },
     "metadata": {},
     "output_type": "display_data"
    }
   ],
   "source": [
    "pipeline = transformers.pipeline(\n",
    "    \"text-generation\",\n",
    "    model=model2,\n",
    "    tokenizer=tokenizer,\n",
    "    torch_dtype=torch.bfloat16, #The models were trained using the bfloat16 datatype\n",
    "    trust_remote_code=True, #controls whether the pipeline should trust and execute remote code provided by the model \n",
    "    device_map=\"auto\",\n",
    ")"
   ]
  },
  {
   "cell_type": "code",
   "execution_count": 5,
   "id": "55850de5-c4e0-4766-88db-b03a9e4b4cff",
   "metadata": {},
   "outputs": [
    {
     "name": "stderr",
     "output_type": "stream",
     "text": [
      "Setting `pad_token_id` to `eos_token_id`:11 for open-end generation.\n"
     ]
    }
   ],
   "source": [
    "\n",
    "\n",
    "\n",
    "sequences = pipeline(\n",
    "    \"Based on the following context, answer the question. Context: Overview# Bash (Bourne Again SHell) is a popular shell and command-line interface. Specifically, a shell is an interface between the user and the underlying operating system, allowing users to interact with the system and perform tasks. Bash provides a range of features for running commands, managing files, navigating systems, and performing other tasks. Bash commands perform various tasks within the shell environment. Commands span basic functionalities (ls, cd, cp, mv, and rm) to more advanced ones(e.g., grep and awk). We cover these commands and more in this tutorial. Bash can also be used in scripts, allowing users to automate tasks and perform more complex operations via loops, conditional logic, and defining functions. Question: What are some of the commands in bash?\",\n",
    "    max_length=500,         # the maximum length of the output sequences.\n",
    "    do_sample=True,         #whether or not to use sampling in generating text. \n",
    "    top_k=20,                 #used during sampling to restrict the set of words considered for the next word in the sequence.\n",
    "    num_return_sequences=2,     #Specifies the number of independently generated sequences to return for a given input.\n",
    "    eos_token_id=tokenizer.eos_token_id,       #specifies the token ID of the end-of-sequence (EOS) token.\n",
    ")\n",
    "\n",
    "    \n",
    "  "
   ]
  },
  {
   "cell_type": "code",
   "execution_count": 6,
   "id": "6a99d860-500e-4a68-bad9-c63b0e1eb6df",
   "metadata": {},
   "outputs": [
    {
     "data": {
      "text/plain": [
       "[{'generated_text': 'Based on the following context, answer the question. Context: Overview# Bash (Bourne Again SHell) is a popular shell and command-line interface. Specifically, a shell is an interface between the user and the underlying operating system, allowing users to interact with the system and perform tasks. Bash provides a range of features for running commands, managing files, navigating systems, and performing other tasks. Bash commands perform various tasks within the shell environment. Commands span basic functionalities (ls, cd, cp, mv, and rm) to more advanced ones(e.g., grep and awk). We cover these commands and more in this tutorial. Bash can also be used in scripts, allowing users to automate tasks and perform more complex operations via loops, conditional logic, and defining functions. Question: What are some of the commands in bash?\\nSome of the commands in Bash include \"ls\" to list files and folders, \"cd\" to change the directory you\\'re currently in, \"cp\" to copy files or folders, \"mv\" to move or rename them, and \"rm\" to remove files or folders.'},\n",
       " {'generated_text': 'Based on the following context, answer the question. Context: Overview# Bash (Bourne Again SHell) is a popular shell and command-line interface. Specifically, a shell is an interface between the user and the underlying operating system, allowing users to interact with the system and perform tasks. Bash provides a range of features for running commands, managing files, navigating systems, and performing other tasks. Bash commands perform various tasks within the shell environment. Commands span basic functionalities (ls, cd, cp, mv, and rm) to more advanced ones(e.g., grep and awk). We cover these commands and more in this tutorial. Bash can also be used in scripts, allowing users to automate tasks and perform more complex operations via loops, conditional logic, and defining functions. Question: What are some of the commands in bash?\\n   cd: Change directory - used to navigate through the file system; ls: List directory contents - display list of files/folders in current directory/location; cp: Copy file/folder - copy file(s) between directories or to/from file system; mv: Move or rename file(s) - move the file/folder to a new directory or to a different location in the same directory; grep: Search the contents of files/folders in the current directory; awk: Advanced scripting language, used for manipulating text/text based on patterns;'}]"
      ]
     },
     "execution_count": 6,
     "metadata": {},
     "output_type": "execute_result"
    }
   ],
   "source": [
    "sequences"
   ]
  },
  {
   "cell_type": "code",
   "execution_count": 8,
   "id": "5039e1d8-12d3-4f3e-8a2d-9a9d5027e746",
   "metadata": {},
   "outputs": [
    {
     "name": "stdout",
     "output_type": "stream",
     "text": [
      "Result 1 :\n",
      "\n",
      "Prompt : Based on the following context, answer the question.\n",
      "Context : Overview# Bash (Bourne Again SHell) is a popular shell and command-line interface. Specifically, a shell is an interface between the user and the underlying operating system, allowing users to interact with the system and perform tasks. Bash provides a range of features for running commands, managing files, navigating systems, and performing other tasks. Bash commands perform various tasks within the shell environment. Commands span basic functionalities (ls, cd, cp, mv, and rm) to more advanced ones(e.g., grep and awk). We cover these commands and more in this tutorial. Bash can also be used in scripts, allowing users to automate tasks and perform more complex operations via loops, conditional logic, and defining functions.\n",
      "Question : What are some of the commands in bash?\n",
      "\n",
      " Some of the commands in Bash include \"ls\" to list files and folders, \"cd\" to change the directory you're currently in, \"cp\" to copy files or folders, \"mv\" to move or rename them, and \"rm\" to remove files or folders.\n",
      "\n",
      "--------------------------------------------------\n",
      "Result 2 :\n",
      "\n",
      "Prompt : Based on the following context, answer the question.\n",
      "Context : Overview# Bash (Bourne Again SHell) is a popular shell and command-line interface. Specifically, a shell is an interface between the user and the underlying operating system, allowing users to interact with the system and perform tasks. Bash provides a range of features for running commands, managing files, navigating systems, and performing other tasks. Bash commands perform various tasks within the shell environment. Commands span basic functionalities (ls, cd, cp, mv, and rm) to more advanced ones(e.g., grep and awk). We cover these commands and more in this tutorial. Bash can also be used in scripts, allowing users to automate tasks and perform more complex operations via loops, conditional logic, and defining functions.\n",
      "Question : What are some of the commands in bash?\n",
      "\n",
      " cd: Change directory - used to navigate through the file system; ls: List directory contents - display list of files/folders in current directory/location; cp: Copy file/folder - copy file(s) between directories or to/from file system; mv: Move or rename file(s) - move the file/folder to a new directory or to a different location in the same directory; grep: Search the contents of files/folders in the current directory; awk: Advanced scripting language, used for manipulating text/text based on patterns;\n",
      "\n",
      "--------------------------------------------------\n"
     ]
    }
   ],
   "source": [
    "print_result(sequences)"
   ]
  },
  {
   "cell_type": "code",
   "execution_count": null,
   "id": "8d4abd87-17c7-4106-ba54-64b883a0f0f0",
   "metadata": {},
   "outputs": [],
   "source": []
  }
 ],
 "metadata": {
  "kernelspec": {
   "display_name": "Chatbot Environment",
   "language": "python",
   "name": "chatbot_env"
  },
  "language_info": {
   "codemirror_mode": {
    "name": "ipython",
    "version": 3
   },
   "file_extension": ".py",
   "mimetype": "text/x-python",
   "name": "python",
   "nbconvert_exporter": "python",
   "pygments_lexer": "ipython3",
   "version": "3.9.16"
  }
 },
 "nbformat": 4,
 "nbformat_minor": 5
}
